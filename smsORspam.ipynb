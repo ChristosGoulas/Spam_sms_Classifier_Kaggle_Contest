{
 "cells": [
  {
   "cell_type": "code",
   "execution_count": 1,
   "metadata": {},
   "outputs": [],
   "source": [
    "import numpy as np\n",
    "import pandas as pd\n",
    "\n",
    "from sklearn.feature_extraction.text import CountVectorizer\n",
    "from sklearn.naive_bayes import MultinomialNB\n",
    "from sklearn.feature_extraction.text import TfidfVectorizer\n",
    "from sklearn.model_selection import train_test_split\n",
    "import sklearn.metrics as metrics"
   ]
  },
  {
   "cell_type": "code",
   "execution_count": 2,
   "metadata": {
    "scrolled": true
   },
   "outputs": [
    {
     "name": "stdout",
     "output_type": "stream",
     "text": [
      "Training data \n",
      "    Label                                               Text\n",
      "0   True  YOU HAVE WON! As a valued Vodafone customer ou...\n",
      "1  False  I‘ve got some salt, you can rub it in my open ...\n",
      "2   True  Xmas & New Years Eve tickets are now on sale f...\n",
      "3   True  3 FREE TAROT TEXTS! Find out about your love l...\n",
      "4  False                    Like  &lt;#&gt; , same question\n",
      "Test data \n",
      "    Id                                               Text\n",
      "0   1  Designation is software developer and may be s...\n",
      "1   2     How do you guys go to see movies on your side.\n",
      "2   3  Urgh, coach hot, smells of chip fat! Thanks ag...\n",
      "3   4                             R u in this continent?\n",
      "4   5                    She's fine. Sends her greetings\n",
      "Length of Training data \n",
      " 4343\n",
      "Length of Test data \n",
      " 1114\n"
     ]
    },
    {
     "data": {
      "text/plain": [
       "Label\n",
       "False    3761\n",
       "True      582\n",
       "dtype: int64"
      ]
     },
     "execution_count": 2,
     "metadata": {},
     "output_type": "execute_result"
    }
   ],
   "source": [
    "data = pd.read_csv('training_data.txt', sep=\"\\t\", names=['Label','Text'])\n",
    "test_data = pd.read_csv('test_data.txt', sep=\"\\t\", names=['Id','Text'])\n",
    "print(\"Training data \\n\",data.head())\n",
    "print(\"Test data \\n\",test_data.head())\n",
    "print(\"Length of Training data \\n\", len(data))\n",
    "print(\"Length of Test data \\n\", len(test_data))\n",
    "data.groupby('Label').size()"
   ]
  },
  {
   "cell_type": "code",
   "execution_count": 3,
   "metadata": {},
   "outputs": [
    {
     "name": "stdout",
     "output_type": "stream",
     "text": [
      "0    1\n",
      "1    0\n",
      "2    1\n",
      "3    1\n",
      "4    0\n",
      "Name: Label, dtype: int32\n",
      "0    YOU HAVE WON! As a valued Vodafone customer ou...\n",
      "1    I‘ve got some salt, you can rub it in my open ...\n",
      "2    Xmas & New Years Eve tickets are now on sale f...\n",
      "3    3 FREE TAROT TEXTS! Find out about your love l...\n",
      "4                      Like  &lt;#&gt; , same question\n",
      "Name: Text, dtype: object\n"
     ]
    }
   ],
   "source": [
    "data.Label = data.Label.astype(int)\n",
    "data_y = data['Label']\n",
    "data_x = data['Text']\n",
    "test = test_data['Text']\n",
    "print(data_y.head())\n",
    "print(data_x.head())"
   ]
  },
  {
   "cell_type": "code",
   "execution_count": 4,
   "metadata": {},
   "outputs": [
    {
     "name": "stdout",
     "output_type": "stream",
     "text": [
      "Test: \n",
      "   (0, 1712)\t1\n",
      "  (0, 6094)\t1\n",
      "  (1, 3177)\t1\n",
      "  (1, 4468)\t1\n",
      "  (2, 1741)\t1\n",
      "  (2, 2560)\t1\n",
      "  (2, 2692)\t1\n",
      "  (2, 3393)\t1\n",
      "  (2, 6586)\t1\n",
      "  (2, 6602)\t1\n",
      "  (2, 7333)\t1\n",
      "  (4, 2764)\t1\n",
      "  (4, 3134)\t1\n",
      "  (4, 5832)\t1\n",
      "  (5, 933)\t1\n",
      "  (5, 1314)\t1\n",
      "  (5, 1457)\t1\n",
      "  (5, 1949)\t1\n",
      "  (5, 2125)\t1\n",
      "  (5, 2812)\t1\n",
      "  (5, 3080)\t1\n",
      "  (5, 4623)\t1\n",
      "  (5, 6399)\t1\n",
      "  (5, 7120)\t1\n",
      "  (5, 7289)\t1\n",
      "  :\t:\n",
      "  (1108, 3490)\t1\n",
      "  (1108, 3745)\t1\n",
      "  (1108, 5252)\t1\n",
      "  (1108, 7089)\t1\n",
      "  (1108, 7353)\t1\n",
      "  (1109, 778)\t1\n",
      "  (1109, 2239)\t1\n",
      "  (1109, 3242)\t1\n",
      "  (1109, 4323)\t1\n",
      "  (1109, 5993)\t1\n",
      "  (1110, 3359)\t1\n",
      "  (1110, 3884)\t1\n",
      "  (1110, 4073)\t1\n",
      "  (1110, 6338)\t1\n",
      "  (1110, 7117)\t1\n",
      "  (1111, 4142)\t1\n",
      "  (1111, 6210)\t1\n",
      "  (1111, 6875)\t1\n",
      "  (1112, 866)\t1\n",
      "  (1112, 3308)\t1\n",
      "  (1112, 3891)\t1\n",
      "  (1112, 4288)\t1\n",
      "  (1113, 4274)\t1\n",
      "  (1113, 7190)\t1\n",
      "  (1113, 7432)\t1\n",
      "x_traincv: \n",
      "   (0, 7319)\t1\n",
      "  (0, 7009)\t1\n",
      "  (0, 7077)\t1\n",
      "  (0, 2070)\t1\n",
      "  (0, 1886)\t1\n",
      "  (0, 5033)\t1\n",
      "  (0, 7270)\t1\n",
      "  (0, 300)\t1\n",
      "  (0, 5249)\t1\n",
      "  (0, 1835)\t1\n",
      "  (0, 2439)\t1\n",
      "  (0, 3746)\t1\n",
      "  (0, 197)\t1\n",
      "  (1, 7023)\t1\n",
      "  (1, 3093)\t1\n",
      "  (1, 5711)\t1\n",
      "  (1, 5663)\t1\n",
      "  (1, 4804)\t1\n",
      "  (1, 7357)\t1\n",
      "  (1, 3976)\t1\n",
      "  (2, 7394)\t1\n",
      "  (2, 4613)\t1\n",
      "  (2, 7424)\t1\n",
      "  (2, 2573)\t1\n",
      "  (2, 6672)\t1\n",
      "  :\t:\n",
      "  (4339, 3716)\t1\n",
      "  (4339, 3183)\t2\n",
      "  (4340, 4446)\t1\n",
      "  (4340, 5055)\t1\n",
      "  (4340, 6387)\t1\n",
      "  (4341, 6963)\t2\n",
      "  (4341, 5829)\t1\n",
      "  (4341, 5650)\t1\n",
      "  (4341, 5168)\t1\n",
      "  (4341, 1622)\t2\n",
      "  (4341, 687)\t1\n",
      "  (4341, 302)\t1\n",
      "  (4341, 2063)\t1\n",
      "  (4341, 535)\t1\n",
      "  (4341, 6389)\t1\n",
      "  (4341, 397)\t1\n",
      "  (4341, 7100)\t1\n",
      "  (4341, 1176)\t1\n",
      "  (4341, 138)\t1\n",
      "  (4341, 3309)\t1\n",
      "  (4341, 4264)\t1\n",
      "  (4341, 1643)\t1\n",
      "  (4341, 4293)\t1\n",
      "  (4342, 4290)\t1\n",
      "  (4342, 2114)\t1\n"
     ]
    }
   ],
   "source": [
    "cv = CountVectorizer(min_df = 1 , stop_words = 'english')\n",
    "x_traincv = cv.fit_transform(data_x)\n",
    "test = cv.transform(test)\n",
    "y_train = data_y.astype('int')\n",
    "print(\"Test: \\n\", test)\n",
    "print(\"x_traincv: \\n\", x_traincv)"
   ]
  },
  {
   "cell_type": "code",
   "execution_count": 5,
   "metadata": {},
   "outputs": [
    {
     "name": "stdout",
     "output_type": "stream",
     "text": [
      "[0 0 0 ... 0 0 0]\n",
      "Spam rows\n",
      "[  17   37   48   53   54   61   64   65   67   68   78   81   82  104\n",
      "  105  106  112  130  156  157  176  180  188  192  198  200  212  227\n",
      "  244  248  249  265  272  276  279  281  294  313  320  325  335  349\n",
      "  357  367  368  373  376  377  401  405  407  415  421  426  428  460\n",
      "  468  469  472  499  513  514  515  524  537  538  541  551  559  561\n",
      "  562  566  574  590  598  602  606  613  614  620  621  628  640  673\n",
      "  674  687  688  699  703  715  731  737  739  741  749  756  759  760\n",
      "  783  787  788  801  807  809  810  811  813  820  831  839  841  845\n",
      "  846  851  855  864  872  880  894  898  903  918  925  927  935  945\n",
      "  950  957  973  979  984  987  991  999 1002 1005 1022 1029 1032 1036\n",
      " 1045 1050 1051 1055 1060 1067 1081 1090 1099 1100 1101]\n"
     ]
    }
   ],
   "source": [
    "clf = MultinomialNB()\n",
    "clf.fit(x_traincv,y_train)\n",
    "predictions = clf.predict(test)\n",
    "print(predictions)\n",
    "position_of_spams = np.where(predictions != 0)[0]\n",
    "for i in range(0 , len(position_of_spams)):\n",
    "    position_of_spams[i] += 1\n",
    "print(\"Spam rows\")\n",
    "print(position_of_spams)"
   ]
  },
  {
   "cell_type": "code",
   "execution_count": null,
   "metadata": {},
   "outputs": [],
   "source": []
  },
  {
   "cell_type": "code",
   "execution_count": 31,
   "metadata": {},
   "outputs": [
    {
     "name": "stdout",
     "output_type": "stream",
     "text": [
      "[0 0 0 ... 0 0 0]\n",
      "[   1    2    3 ... 1112 1113 1114]\n",
      "1114\n",
      "1114\n"
     ]
    }
   ],
   "source": [
    "pred = np.array(predictions)\n",
    "ids = np.arange(1114)\n",
    "for i in range(0,1114):\n",
    "    ids[i] += 1\n",
    "print(pred)\n",
    "print(ids)\n",
    "print(len(pred))\n",
    "print(len(ids))\n",
    "#to_submit = pd.DataFrame({'id': ids, 'label': pred}) \n",
    "to_submit = pd.DataFrame({'label': pred})\n",
    "to_submit.index += 1"
   ]
  },
  {
   "cell_type": "code",
   "execution_count": 32,
   "metadata": {},
   "outputs": [],
   "source": [
    "to_submit.label = to_submit.label.astype(bool)\n",
    "to_submit = pd.DataFrame(to_submit)\n",
    "to_submit.label.to_csv('final.csv' , header = 'False')"
   ]
  },
  {
   "cell_type": "code",
   "execution_count": null,
   "metadata": {},
   "outputs": [],
   "source": []
  },
  {
   "cell_type": "code",
   "execution_count": null,
   "metadata": {},
   "outputs": [],
   "source": []
  }
 ],
 "metadata": {
  "kernelspec": {
   "display_name": "Python 3",
   "language": "python",
   "name": "python3"
  },
  "language_info": {
   "codemirror_mode": {
    "name": "ipython",
    "version": 3
   },
   "file_extension": ".py",
   "mimetype": "text/x-python",
   "name": "python",
   "nbconvert_exporter": "python",
   "pygments_lexer": "ipython3",
   "version": "3.7.4"
  }
 },
 "nbformat": 4,
 "nbformat_minor": 2
}
