{
 "cells": [
  {
   "cell_type": "code",
   "execution_count": 3,
   "metadata": {},
   "outputs": [],
   "source": [
    "import numpy as np\n",
    "import pandas as pd\n",
    "from pandas import DataFrame\n",
    "import scipy as sp\n",
    "import string\n",
    "import json\n",
    "import sklearn.metrics as metrics\n",
    "from sklearn.feature_extraction.text import CountVectorizer\n",
    "import matplotlib.pyplot as  plt\n",
    "import seaborn as sns\n",
    "from sklearn.metrics import accuracy_score\n",
    "####\n",
    "from sklearn.linear_model import LogisticRegression"
   ]
  },
  {
   "cell_type": "code",
   "execution_count": 13,
   "metadata": {},
   "outputs": [
    {
     "name": "stdout",
     "output_type": "stream",
     "text": [
      "      Label                                               Text\n",
      "0     False  I‘ve got some salt, you can rub it in my open ...\n",
      "1      True  Xmas & New Years Eve tickets are now on sale f...\n",
      "2      True  3 FREE TAROT TEXTS! Find out about your love l...\n",
      "3     False                    Like  &lt;#&gt; , same question\n",
      "4     False  Hey you around? I've got enough for a half + t...\n",
      "...     ...                                                ...\n",
      "4337  False                        Anything lor is she coming?\n",
      "4338  False    I‘m going to try for 2 months ha ha only joking\n",
      "4339  False  Pity, * was in mood for that. So...any other s...\n",
      "4340   True  Ur cash-balance is currently 500 pounds - to m...\n",
      "4341  False                              I'm meeting Darren...\n",
      "\n",
      "[4342 rows x 2 columns]\n"
     ]
    }
   ],
   "source": [
    "# open training dataset\n",
    "\n",
    "data = pd.read_table('training_data.txt')\n",
    "data.columns = ['Label', 'Text']\n",
    "print(data)\n",
    "data.to_csv('cleandata.csv', index_label = 'ID')"
   ]
  },
  {
   "cell_type": "code",
   "execution_count": null,
   "metadata": {},
   "outputs": [],
   "source": []
  }
 ],
 "metadata": {
  "kernelspec": {
   "display_name": "Python 3",
   "language": "python",
   "name": "python3"
  },
  "language_info": {
   "codemirror_mode": {
    "name": "ipython",
    "version": 3
   },
   "file_extension": ".py",
   "mimetype": "text/x-python",
   "name": "python",
   "nbconvert_exporter": "python",
   "pygments_lexer": "ipython3",
   "version": "3.7.4"
  }
 },
 "nbformat": 4,
 "nbformat_minor": 2
}
