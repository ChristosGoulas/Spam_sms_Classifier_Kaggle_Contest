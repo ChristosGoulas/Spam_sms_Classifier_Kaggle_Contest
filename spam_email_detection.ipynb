{
 "cells": [
  {
   "cell_type": "code",
   "execution_count": 3,
   "metadata": {},
   "outputs": [],
   "source": [
    "import numpy as np\n",
    "import pandas as pd\n",
    "from pandas import DataFrame\n",
    "import scipy as sp\n",
    "import string\n",
    "import json\n",
    "import sklearn.metrics as metrics\n",
    "from sklearn.feature_extraction.text import CountVectorizer\n",
    "import matplotlib.pyplot as  plt\n",
    "import seaborn as sns\n",
    "from sklearn.metrics import accuracy_score\n",
    "####\n",
    "from sklearn.linear_model import LogisticRegression"
   ]
  },
  {
   "cell_type": "code",
   "execution_count": 39,
   "metadata": {},
   "outputs": [
    {
     "name": "stdout",
     "output_type": "stream",
     "text": [
      "      Label                                               Text\n",
      "0      True  YOU HAVE WON! As a valued Vodafone customer ou...\n",
      "1     False  I‘ve got some salt, you can rub it in my open ...\n",
      "2      True  Xmas & New Years Eve tickets are now on sale f...\n",
      "3      True  3 FREE TAROT TEXTS! Find out about your love l...\n",
      "4     False                    Like  &lt;#&gt; , same question\n",
      "...     ...                                                ...\n",
      "4338  False                        Anything lor is she coming?\n",
      "4339  False    I‘m going to try for 2 months ha ha only joking\n",
      "4340  False  Pity, * was in mood for that. So...any other s...\n",
      "4341   True  Ur cash-balance is currently 500 pounds - to m...\n",
      "4342  False                              I'm meeting Darren...\n",
      "\n",
      "[4343 rows x 2 columns]\n"
     ]
    }
   ],
   "source": [
    "# open training dataset\n",
    "data = pd.read_table('training_data.txt', encoding = 'utf-8', header = None)\n",
    "data.columns = ['Label', 'Text']\n",
    "print(data)\n",
    "data.to_csv('cleandata.csv', index_label = 'ID')"
   ]
  },
  {
   "cell_type": "code",
   "execution_count": null,
   "metadata": {},
   "outputs": [],
   "source": []
  },
  {
   "cell_type": "code",
   "execution_count": null,
   "metadata": {},
   "outputs": [],
   "source": []
  }
 ],
 "metadata": {
  "kernelspec": {
   "display_name": "Python 3",
   "language": "python",
   "name": "python3"
  },
  "language_info": {
   "codemirror_mode": {
    "name": "ipython",
    "version": 3
   },
   "file_extension": ".py",
   "mimetype": "text/x-python",
   "name": "python",
   "nbconvert_exporter": "python",
   "pygments_lexer": "ipython3",
   "version": "3.7.4"
  }
 },
 "nbformat": 4,
 "nbformat_minor": 2
}
